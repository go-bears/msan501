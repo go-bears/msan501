{
 "cells": [
  {
   "cell_type": "markdown",
   "metadata": {},
   "source": [
    "# Programming Patterns in Python\n",
    "\n",
    "Now that we've got a basic vocabulary and sentence structure for Python, let's look at a few implementations for the [high-level programming patterns](operations.md), such as Map, Filter, Combine, etc... Each of those patterns has a pseudocode implementation using conditional and loop patterns, which we can translate very easily to python syntax. \n",
    "\n",
    "As we go through, you will see that program design and coding are a game of word association. A high-level operation, such as map, should trigger a pseudocode loop template in your mind, which should then trigger a for-each Python code template.\n",
    "\n",
    "*Keep in mind that we design programs by selecting and applying patterns, not specific code sequences. Coding is the final act in the design process where we get an executable document.* So, think visually about how you would manipulate lists of data or extract information from data. I often draw things out or put them into a spreadsheet to help me visualize. Manually moving some data around on paper helps me to understand the operations to perform.  After designing a sequence or combination of high-level patterns, we write things out in pseudocode so we don't have to worry early on about Python syntax details. After we're happy with the pseudocode, we finally convert that to Python programming language syntax. Fortunately, there is a very close relationship between pseudocode and Python code. As you gain more experience, it will be easier to go straight from the pattern to the code, but we still design programs using patterns, not code, in our head. For complex problems, I still write out pseudocode, despite 35+ years coding experience."
   ]
  },
  {
   "cell_type": "markdown",
   "metadata": {},
   "source": [
    "## Map\n",
    "\n",
    "Let's look at an implementation of the [Map](operations.md#map) pattern first because it is so important.  The original discussion regarding the map operation showed a simple column of prices and an empty destination column at time 0:\n",
    "\n",
    "<img src=\"images/map-discount-op.png\" style=\"width:390px\">\n",
    "\n",
    "We can represent both using list literals:"
   ]
  },
  {
   "cell_type": "code",
   "execution_count": 1,
   "metadata": {
    "collapsed": true
   },
   "outputs": [],
   "source": [
    "UnitPrice = [38.94, 208.16, 8.69, 195.99]\n",
    "Discounted = [] # empty list"
   ]
  },
  {
   "cell_type": "markdown",
   "metadata": {},
   "source": [
    "In other words:\n",
    "\n",
    "<img src=\"images/price-time0.png\" style=\"width:400px\">\n",
    "\n",
    "In [Model of Computation](computation.md), we saw the pseudocode pattern to implement this map operation:\n",
    "\n",
    "*for each price in <ins>UnitPrice</ins> list*:<br>\n",
    "&nbsp;&nbsp;&nbsp;&nbsp;<i>add <ins>price * 0.95</ins> to <ins>Discounted</ins> list</i>\n",
    "\n",
    "The holes to fill in are the list to traverse, the expression representing the new values, and the target list.\n",
    "\n",
    "That sure looks like a for-each loop, so let's use that coding pattern:"
   ]
  },
  {
   "cell_type": "code",
   "execution_count": 3,
   "metadata": {
    "scrolled": true
   },
   "outputs": [
    {
     "name": "stdout",
     "output_type": "stream",
     "text": [
      "[36.992999999999995, 197.75199999999998, 8.2555, 186.1905]\n"
     ]
    }
   ],
   "source": [
    "Discounted = [] # empty list\n",
    "for price in UnitPrice:\n",
    "    Discounted.append(price * 0.95)\n",
    "print Discounted"
   ]
  },
  {
   "cell_type": "markdown",
   "metadata": {},
   "source": [
    "Notice that I have included the initialization of the empty list as part of this code snippet. The reason is that we really want to mentally associate the initialization with this code pattern.\n",
    "\n",
    "<ins>The translation process in our heads from high-level pattern to pseudocode to code is a game of *word association*\".</ins> When your brain sees an operation that maps a column of data to another, think \"map\". When your brain hears \"map\" it should generate the appropriate pseudocode loop, filling in the holes appropriately.  When your brain hears \"for each blah blah\", think \"oh, for-each loop\" and use the appropriate coding pattern.\n",
    "\n",
    "<img src=\"images/price-time1.png\" style=\"width:400px\">\n",
    "\n",
    "Even at the microlevel, think about mapping operations to code. For example, when I think about \"*add <ins>x</ins> to list <ins>y</ins>*\", my brain translates that to `y.append(x)`.\n",
    "\n",
    "**Exercise**: Without looking at the code for this map, try to write the code out for a map operation that divided the prices in half, again putting the values in `Discounted`.\n",
    "\n",
    "**Exercise**:  Given a list of names, `['Xue', 'Mary', 'Robert']`, give code to implement a map operation that converts the names to list `namelens` containing the length of the names. Hint: Function call `len('Xue')` returns 3.\n",
    "\n",
    "*Solution*:"
   ]
  },
  {
   "cell_type": "code",
   "execution_count": 3,
   "metadata": {},
   "outputs": [
    {
     "name": "stdout",
     "output_type": "stream",
     "text": [
      "[3, 4, 6]\n"
     ]
    }
   ],
   "source": [
    "names = ['Xue', 'Mary', 'Robert']\n",
    "namelens = []\n",
    "for name in names:\n",
    "    namelens.append(len(name))\n",
    "print namelens"
   ]
  },
  {
   "cell_type": "markdown",
   "metadata": {},
   "source": [
    "**Advanced**: There is an easier way to do this, using a *list comprehension*, because it is so common. It's really just shorthand that looks more like mathematical set notation:"
   ]
  },
  {
   "cell_type": "code",
   "execution_count": 7,
   "metadata": {},
   "outputs": [
    {
     "name": "stdout",
     "output_type": "stream",
     "text": [
      "[36.992999999999995, 197.75199999999998, 8.2555, 186.1905]\n"
     ]
    }
   ],
   "source": [
    "Discounted = [price * 0.95 for price in UnitPrice] # a list comprehension\n",
    "print Discounted"
   ]
  },
  {
   "cell_type": "markdown",
   "metadata": {},
   "source": [
    "## Accumulate\n",
    "\n",
    "As an example of an accumulator, we visualized the running sum of the values in a list of quantities:\n",
    "\n",
    "<img src=\"images/accumulator.png\" style=\"width:290px\">"
   ]
  },
  {
   "cell_type": "markdown",
   "metadata": {},
   "source": [
    "We can simulate that column of data using a list literal in Python:"
   ]
  },
  {
   "cell_type": "code",
   "execution_count": 4,
   "metadata": {
    "collapsed": true
   },
   "outputs": [],
   "source": [
    "Quantity = [6, 49, 27, 30, 19, 21, 12, 22, 21]"
   ]
  },
  {
   "cell_type": "markdown",
   "metadata": {},
   "source": [
    "The pseudocode patterns we've seen for accumulators initialize the accumulated value(s) then loop through the input data, updating the accumulated value. In this case, we can write pseudocode like this:\n",
    "\n",
    "*init <ins>sum</ins> to 0*<br>\n",
    "*for each quantity in <ins>Quantity</ins> list*:<br>\n",
    "&nbsp;&nbsp;&nbsp;&nbsp;*let sum be <ins>sum + quantity</ins>*\n",
    "\n",
    "To write that pseudocode, I had to fill in holes for the accumulated variable name, `sum`, list to traverse, `Quantity`, and the operation `sum + quantity`.\n",
    "\n",
    "The python code to implement that pseudocode is a straightforward one-to-one mapping:"
   ]
  },
  {
   "cell_type": "code",
   "execution_count": 6,
   "metadata": {},
   "outputs": [
    {
     "name": "stdout",
     "output_type": "stream",
     "text": [
      "207\n"
     ]
    }
   ],
   "source": [
    "sum = 0\n",
    "for q in Quantity:\n",
    "    sum = sum + q\n",
    "print sum"
   ]
  },
  {
   "cell_type": "markdown",
   "metadata": {},
   "source": [
    "To accumulate two different values, we would have two different initializations and two statements in the loop.\n",
    "\n",
    "**Exercise**: What is the similarity between this accumulator code pattern and the previous map code pattern?\n",
    "\n",
    "**Exercise**: Use the accumulator pattern to County elements in the `Quantity` list. I.e., figure of the length of that list without using the `len()` function. Hint: use an accumulator variable called `count`."
   ]
  },
  {
   "cell_type": "markdown",
   "metadata": {},
   "source": [
    "## Combine\n",
    "\n",
    "Now that we've seen two examples that traverse a single list, let's look at the code pattern to traverse two lists at once placing the result in a third list. Visually we saw this example in the high-level patterns discussion:\n",
    "\n",
    "<img src=\"images/map-mult.png\" style=\"width:490px\">\n",
    "\n",
    "At time zero, we have the following data available:"
   ]
  },
  {
   "cell_type": "code",
   "execution_count": 10,
   "metadata": {
    "collapsed": true
   },
   "outputs": [],
   "source": [
    "Quantity = [6, 49, 27, 30, 19, 21, 12, 22, 21]\n",
    "UnitPrice = [38.94, 208.16, 8.69, 195.99, 21.78, 6.64, 7.3, 42.76, 138.14]"
   ]
  },
  {
   "cell_type": "markdown",
   "metadata": {},
   "source": [
    "Then, as the initialization element of our pseudocode, we can initialize an empty list for the target list, `Cost`:\n",
    "\n",
    "*init <ins>Cost</ins> to empty list*<br>\n",
    "*for each value <ins>i</ins> in set <ins>0..n-1</ins>*:<br>\n",
    "&nbsp;&nbsp;&nbsp;&nbsp;<i>let Cost<sub>i</sub> be <ins>Quantity<sub>i</sub> * UnitPrice<sub>i</sub></ins></i>\n",
    "\n",
    "The pseudocode template has a number of holes to fill in: the target list, the index variable name, the range of indices, and the expression describing the ith value.\n",
    "\n",
    "While that pseudocode says to set the ith value of `Cost`, as we'd do inMathematics, we need to do something a little bit different in the code pattern: `Cost.append(...)`. The reason is that `Cost` starts out as an empty list and so `Cost[i]` for any i>=0 is an error because there is no such element. Instead, we just add to the list like we did for the map operation. Knowing this, we could have used a variation of the pseudocode:\n",
    "\n",
    "*init <ins>Cost</ins> to empty list*<br>\n",
    "*for each value <ins>i</ins> in set <ins>0..n-1</ins>*:<br>\n",
    "&nbsp;&nbsp;&nbsp;&nbsp;<i>add <ins>Quantity<sub>i</sub> * UnitPrice<sub>i</sub></ins> to <ins>Cost</ins> list</i>\n",
    "\n",
    "Looking at the pseudocode loop, it's clear we should translate to Python using an indexed loop. That makes sense because when traversing more than a single list, we typically need to use an indexed loop rather than a for-each loop."
   ]
  },
  {
   "cell_type": "code",
   "execution_count": 12,
   "metadata": {},
   "outputs": [
    {
     "name": "stdout",
     "output_type": "stream",
     "text": [
      "[233.64, 10199.84, 234.63, 5879.700000000001, 413.82000000000005, 139.44, 87.6, 940.7199999999999, 2900.9399999999996]\n"
     ]
    }
   ],
   "source": [
    "Cost = []\n",
    "for i in range(len(Quantity)): # from 0 to length of Quantity-1, inclusively\n",
    "    Cost.append( Quantity[i] * UnitPrice[i] )\n",
    "print Cost"
   ]
  },
  {
   "cell_type": "markdown",
   "metadata": {},
   "source": [
    "## Filter\n",
    "\n",
    "Our example filter visualization extracted shipping costs less than 10 dollars from a Shipping column:\n",
    "\n",
    "<img src=\"images/filter-apply.png\" style=\"width:590px\">"
   ]
  },
  {
   "cell_type": "markdown",
   "metadata": {},
   "source": [
    "The pseudocode template for filtering from [Common lower-level programming patterns](Combinations.md) is:\n",
    "\n",
    "*for each <ins>x</ins> in <ins>sequence</ins>*:<br>\n",
    "&nbsp;&nbsp;&nbsp;&nbsp;*if <ins>condition</ins>*:<br>\n",
    "&nbsp;&nbsp;&nbsp;&nbsp;&nbsp;&nbsp;&nbsp;&nbsp;*add x to <ins>new list</ins>*<br>\n",
    "\n",
    "The holes to fill in are the variable name to iterate through the sequence, the filtering condition indicating what to extract, and the target list containing the filter values. So, the pseudocode for the shipping example is:\n",
    "\n",
    "*for each <ins>x</ins> in <ins>Shipping</ins>*:<br>\n",
    "&nbsp;&nbsp;&nbsp;&nbsp;*if <ins>x &lt; 10</ins>*:<br>\n",
    "&nbsp;&nbsp;&nbsp;&nbsp;&nbsp;&nbsp;&nbsp;&nbsp;add x to <ins>Shipping2</ins><br>\n",
    "\n",
    "Because we are traversing a single list, we can use a for-each loop. Because we are filtering into a new list, we have to explicitly initialize `Shipping2`."
   ]
  },
  {
   "cell_type": "code",
   "execution_count": 3,
   "metadata": {
    "scrolled": true
   },
   "outputs": [
    {
     "name": "stdout",
     "output_type": "stream",
     "text": [
      "[2.99, 3.99, 5.94, 4.95, 7.72, 6.22]\n"
     ]
    }
   ],
   "source": [
    "Shipping = [35, 68.02, 2.99, 3.99, 5.94, 4.95, 7.72, 6.22]\n",
    "Shipping2 = []\n",
    "for x in Shipping:\n",
    "    if x < 10:\n",
    "        Shipping2.append(x)\n",
    "print Shipping2"
   ]
  },
  {
   "cell_type": "markdown",
   "metadata": {},
   "source": [
    "**Exercise**:  Given a list of `names=['Xue', 'Mary', 'Bob']`, filter the list into `names2` for those names starting with `X`. Recall that `name[i]` yields the ith character in `name`."
   ]
  },
  {
   "cell_type": "markdown",
   "metadata": {},
   "source": [
    "We often filter rows of a table on a particular column, which means that we need a slightly different pseudocode template. Let's look at the previous example visualization that filtered for Oscar winners:\n",
    "\n",
    "<img src=\"images/filter-winners.png\" style=\"width:590px\">\n",
    "\n",
    "We previously saw the pseudocode for this operation that tests a particular column (index 2 aka position 3), but adds an entire row to the output list:\n",
    " \n",
    "*for each <ins>row</ins> in <ins>Oscars</ins>:*<br>\n",
    "&nbsp;&nbsp;&nbsp;&nbsp;*if <ins>row<sub>2</sub> is 1<ins>*:<br>\n",
    "&nbsp;&nbsp;&nbsp;&nbsp;&nbsp;&nbsp;&nbsp;&nbsp;*add row to <ins>Oscars2</ins>*\n",
    "\n",
    "In Python code, we could create the Oscars table like this:"
   ]
  },
  {
   "cell_type": "code",
   "execution_count": 21,
   "metadata": {
    "collapsed": true
   },
   "outputs": [],
   "source": [
    "Oscars = [\n",
    "    [1984, \"A Soldier's Story\", 0],\n",
    "    [1984, 'Places in the Heart', 0],\n",
    "    [1984, 'The Killing Fields', 0],\n",
    "    [1984, 'A Passage to India', 0],\n",
    "    [1984, 'Amadeus', 1],\n",
    "    [1985, \"Prizzi's Honor\", 0],\n",
    "    [1985, 'Kiss of the Spider Woman', 0],\n",
    "    [1985, 'Witness', 0],\n",
    "    [1985, 'The Color Purple', 0],\n",
    "    [1985, 'Out of Africa', 1]\n",
    "]"
   ]
  },
  {
   "cell_type": "markdown",
   "metadata": {},
   "source": [
    "The code for the looping construct looks like:\n"
   ]
  },
  {
   "cell_type": "code",
   "execution_count": 9,
   "metadata": {
    "scrolled": true
   },
   "outputs": [
    {
     "name": "stdout",
     "output_type": "stream",
     "text": [
      "[[1984, 'Amadeus', 1], [1985, 'Out of Africa', 1]]\n"
     ]
    }
   ],
   "source": [
    "Oscars2 = []\n",
    "for movie in Oscars:\n",
    "    if movie[2]==1:\n",
    "        Oscars2.append(movie)\n",
    "print Oscars2"
   ]
  },
  {
   "cell_type": "raw",
   "metadata": {},
   "source": []
  },
  {
   "cell_type": "markdown",
   "metadata": {},
   "source": [
    "**Exercise**: Filter the `Oscars` list into `Oscars2` for all movies with 3-word titles. To break a string into a list of words, use `title.split(' ')`. If the length of that list is 3, then copy the entire row to `Oscars2`."
   ]
  },
  {
   "cell_type": "markdown",
   "metadata": {},
   "source": [
    "The output is a list of lists, a filtered table of rows one per movie."
   ]
  },
  {
   "cell_type": "markdown",
   "metadata": {},
   "source": [
    "## Search\n",
    "\n",
    "Searching is, in some sense, a variation on filtering. Instead of finding all elements that satisfy a condition, however, searching looks for either the first or the last element in a sequence that satisfies a condition. For example, in the rainfall sensor data example, we searched for `999`:\n",
    "\n",
    "<img src=\"images/search-rainfall.png\" style=\"width:180px\">\n",
    "\n",
    "Because there is only one, searching for the first and last gets the same element. Most search functions return the index of the element satisfying a condition, or -1 if no such element exists. The pseudocode we used for the search was:\n",
    "\n",
    "*let index be -1*<br>\n",
    "*for i in 0..n-1:*<br>\n",
    "&nbsp;&nbsp;&nbsp;&nbsp;*if sequence<sub>i</sub> = 999*:<br>\n",
    "&nbsp;&nbsp;&nbsp;&nbsp;&nbsp;&nbsp;&nbsp;&nbsp;*index = i*<br>\n",
    "&nbsp;&nbsp;&nbsp;&nbsp;&nbsp;&nbsp;&nbsp;&nbsp;*break out of loop*\n",
    "\n",
    "We can extract a template for searching *mylist* for *x* from this:\n",
    "\n",
    "*let index be -1*<br>\n",
    "*for i in 0..len(<ins>mylist</ins>)-1:*<br>\n",
    "&nbsp;&nbsp;&nbsp;&nbsp;*if <ins>mylist<sub>i</sub></ins>==<ins>x</ins>*:<br>\n",
    "&nbsp;&nbsp;&nbsp;&nbsp;&nbsp;&nbsp;&nbsp;&nbsp;*index = i*<br>\n",
    "&nbsp;&nbsp;&nbsp;&nbsp;&nbsp;&nbsp;&nbsp;&nbsp;*break out of loop*\n",
    "\n",
    "Translating the pseudocode for the rainfall data to Python looks like this:"
   ]
  },
  {
   "cell_type": "code",
   "execution_count": 13,
   "metadata": {},
   "outputs": [
    {
     "name": "stdout",
     "output_type": "stream",
     "text": [
      "5\n"
     ]
    }
   ],
   "source": [
    "Rainfall = [0, 5, 2, 1, 0, 999, 8]  # our given input\n",
    "index = -1\n",
    "for i in range(len(Rainfall)):      # i is in range [0..n-1] or [0..n)\n",
    "    if Rainfall[i]==999:\n",
    "        index = i\n",
    "        break\n",
    "print index"
   ]
  },
  {
   "cell_type": "markdown",
   "metadata": {},
   "source": [
    "The `break` statement breaks out of the immediately-enclosing loop, regardless of the type of loop.\n",
    "\n",
    "**Exercise**: This code finds the first element of a list satisfying a condition. Alter the code so it finds the last element satisfying the condition that the element is 0. In this case, it should find index 4 not 0. Hint: `reversed(range(...))` gives a range that counts backwards."
   ]
  },
  {
   "cell_type": "markdown",
   "metadata": {},
   "source": [
    "## Importing libraries\n",
    "\n",
    "We've seen the use of some predefined functions, such as `range` and `len`, but those are available without doing anything special in your Python program. Now let's take a look at importing a library of code and data. Because there are perhaps millions of libraries out there and Python can't automatically load them all into memory (slow and they wouldn't fit), we must explicitly `import` the libraries we want to use. This is like opening a specific cookbook.\n",
    "\n",
    "For example, let's say we need the value of &pi;, which I can only remember to five decimal points. If we type `pi` in the Python console, we get an error because that variable is not defined:"
   ]
  },
  {
   "cell_type": "code",
   "execution_count": 14,
   "metadata": {},
   "outputs": [
    {
     "ename": "NameError",
     "evalue": "name 'pi' is not defined",
     "output_type": "error",
     "traceback": [
      "\u001b[0;31m---------------------------------------------------------------------------\u001b[0m",
      "\u001b[0;31mNameError\u001b[0m                                 Traceback (most recent call last)",
      "\u001b[0;32m<ipython-input-14-178c179120f5>\u001b[0m in \u001b[0;36m<module>\u001b[0;34m()\u001b[0m\n\u001b[0;32m----> 1\u001b[0;31m \u001b[0;32mprint\u001b[0m \u001b[0mpi\u001b[0m\u001b[0;34m\u001b[0m\u001b[0m\n\u001b[0m",
      "\u001b[0;31mNameError\u001b[0m: name 'pi' is not defined"
     ]
    }
   ],
   "source": [
    "print pi"
   ]
  },
  {
   "cell_type": "markdown",
   "metadata": {},
   "source": [
    "However, the Python `math` library has that variable and much more, so let's import it."
   ]
  },
  {
   "cell_type": "code",
   "execution_count": 15,
   "metadata": {
    "collapsed": true
   },
   "outputs": [],
   "source": [
    "import math"
   ]
  },
  {
   "cell_type": "markdown",
   "metadata": {},
   "source": [
    "That tells Python to bring in the `math` library and so now we can access the stuff inside. A crude way to ask Python for the list of stuff in a package is to use the `dir` function, similar to the Windows commandline `dir` command."
   ]
  },
  {
   "cell_type": "code",
   "execution_count": 17,
   "metadata": {},
   "outputs": [
    {
     "name": "stdout",
     "output_type": "stream",
     "text": [
      "['__doc__', '__file__', '__name__', '__package__', 'acos', 'acosh', 'asin', 'asinh', 'atan', 'atan2', 'atanh', 'ceil', 'copysign', 'cos', 'cosh', 'degrees', 'e', 'erf', 'erfc', 'exp', 'expm1', 'fabs', 'factorial', 'floor', 'fmod', 'frexp', 'fsum', 'gamma', 'hypot', 'isinf', 'isnan', 'ldexp', 'lgamma', 'log', 'log10', 'log1p', 'modf', 'pi', 'pow', 'radians', 'sin', 'sinh', 'sqrt', 'tan', 'tanh', 'trunc']\n"
     ]
    }
   ],
   "source": [
    "print dir(math)"
   ]
  },
  {
   "cell_type": "markdown",
   "metadata": {},
   "source": [
    "It's better to use the [online math documentation](https://docs.python.org/2/library/math.html), but sometimes that command is helpful if you just can't remember the name of something.\n",
    "\n",
    "Anyway, now we can finally get the value of `pi`:"
   ]
  },
  {
   "cell_type": "code",
   "execution_count": 18,
   "metadata": {},
   "outputs": [
    {
     "name": "stdout",
     "output_type": "stream",
     "text": [
      "3.14159265359\n"
     ]
    }
   ],
   "source": [
    "print math.pi"
   ]
  },
  {
   "cell_type": "markdown",
   "metadata": {},
   "source": [
    "We can access anything we want by prefixing it with the name of the library followed by the dot operator which is kind of like an \"access\" operator. `pi` is a variable but there are also functions such as `sqrt`:"
   ]
  },
  {
   "cell_type": "code",
   "execution_count": 20,
   "metadata": {},
   "outputs": [
    {
     "name": "stdout",
     "output_type": "stream",
     "text": [
      "10.0\n"
     ]
    }
   ],
   "source": [
    "print math.sqrt(100)"
   ]
  },
  {
   "cell_type": "markdown",
   "metadata": {},
   "source": [
    "Next, we're going to look at implementing our own functions."
   ]
  }
 ],
 "metadata": {
  "anaconda-cloud": {},
  "kernelspec": {
   "display_name": "Python [default]",
   "language": "python",
   "name": "python2"
  },
  "language_info": {
   "codemirror_mode": {
    "name": "ipython",
    "version": 2
   },
   "file_extension": ".py",
   "mimetype": "text/x-python",
   "name": "python",
   "nbconvert_exporter": "python",
   "pygments_lexer": "ipython2",
   "version": "2.7.12"
  }
 },
 "nbformat": 4,
 "nbformat_minor": 1
}
